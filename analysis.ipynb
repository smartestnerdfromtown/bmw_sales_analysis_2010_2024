{
 "cells": [
  {
   "cell_type": "code",
   "execution_count": 13,
   "metadata": {},
   "outputs": [],
   "source": [
    "from pyspark.sql import SparkSession\n",
    "from pyspark.sql.types import (\n",
    "    StructType,\n",
    "    StructField,\n",
    "    IntegerType,\n",
    "    StringType,\n",
    "    DoubleType,\n",
    ")"
   ]
  },
  {
   "cell_type": "code",
   "execution_count": 14,
   "metadata": {},
   "outputs": [],
   "source": [
    "spark = SparkSession.builder.appName(\"BMW Sales Analysis\").getOrCreate()\n",
    "spark.sparkContext.setLogLevel(\"ERROR\")"
   ]
  },
  {
   "cell_type": "code",
   "execution_count": 17,
   "metadata": {},
   "outputs": [],
   "source": [
    "schema = StructType(\n",
    "    [\n",
    "        StructField(\"Year\", IntegerType(), True),\n",
    "        StructField(\"Month\", IntegerType(), True),\n",
    "        StructField(\"Model\", StringType(), True),\n",
    "        StructField(\"Units_Sold\", IntegerType(), True),\n",
    "        StructField(\"Price\", DoubleType(), True),\n",
    "        StructField(\"Revenue\", DoubleType(), True),\n",
    "        StructField(\"Dealer\", StringType(), True),\n",
    "        StructField(\"Region\", StringType(), True),\n",
    "        StructField(\"Fuel_Type\", StringType(), True),\n",
    "        StructField(\"Transmission\", StringType(), True),\n",
    "    ]\n",
    ")\n",
    "\n",
    "df = spark.read.csv(\n",
    "    path=\"dataset/bmw_car_sales_2010_2024.csv\",\n",
    "    schema=schema,\n",
    "    header=True,\n",
    "    mode=\"PERMISSIVE\",\n",
    ")"
   ]
  },
  {
   "cell_type": "code",
   "execution_count": 19,
   "metadata": {},
   "outputs": [
    {
     "name": "stdout",
     "output_type": "stream",
     "text": [
      "+----+-----+--------+----------+---------+------------------+---------+-------------+---------+------------+\n",
      "|Year|Month|   Model|Units_Sold|    Price|           Revenue|   Dealer|       Region|Fuel_Type|Transmission|\n",
      "+----+-----+--------+----------+---------+------------------+---------+-------------+---------+------------+\n",
      "|2020|    2|3 Series|        24| 47143.54|        1131444.96|Dealer_16|       Europe|   Diesel|      Manual|\n",
      "|2020|   12|      i8|        16|129651.43|        2074422.88|Dealer_28|North America|   Petrol|      Manual|\n",
      "|2013|    4|      i8|        22|151284.79|3328265.3800000004|Dealer_36|       Europe| Electric|      Manual|\n",
      "|2017|   10|      X3|        26|  54855.8|         1426250.8| Dealer_1|       Europe| Electric|   Automatic|\n",
      "|2014|    3|      X1|        16| 41550.74|         664811.84|Dealer_22|North America|   Petrol|   Automatic|\n",
      "|2011|    6|      X5|        18| 70272.66|1264907.8800000001| Dealer_3|       Africa| Electric|      Manual|\n",
      "|2024|    7|5 Series|        20| 58608.67|         1172173.4|Dealer_41|South America|   Hybrid|      Manual|\n",
      "|2021|    2|3 Series|        22| 46131.92|        1014902.24|Dealer_50|         Asia|   Petrol|      Manual|\n",
      "|2023|    2|      X6|        18| 68837.45|1239074.0999999999|Dealer_41|         Asia|   Diesel|   Automatic|\n",
      "|2015|    4|      M5|        20| 102909.8|         2058196.0|Dealer_44|       Africa|   Petrol|      Manual|\n",
      "+----+-----+--------+----------+---------+------------------+---------+-------------+---------+------------+\n",
      "only showing top 10 rows\n",
      "root\n",
      " |-- Year: integer (nullable = true)\n",
      " |-- Month: integer (nullable = true)\n",
      " |-- Model: string (nullable = true)\n",
      " |-- Units_Sold: integer (nullable = true)\n",
      " |-- Price: double (nullable = true)\n",
      " |-- Revenue: double (nullable = true)\n",
      " |-- Dealer: string (nullable = true)\n",
      " |-- Region: string (nullable = true)\n",
      " |-- Fuel_Type: string (nullable = true)\n",
      " |-- Transmission: string (nullable = true)\n",
      "\n"
     ]
    }
   ],
   "source": [
    "df.show(10)\n",
    "df.printSchema()"
   ]
  },
  {
   "cell_type": "code",
   "execution_count": 25,
   "metadata": {},
   "outputs": [],
   "source": [
    "df.createOrReplaceTempView(\"BMW\")"
   ]
  },
  {
   "cell_type": "code",
   "execution_count": 26,
   "metadata": {},
   "outputs": [
    {
     "name": "stdout",
     "output_type": "stream",
     "text": [
      "+----+--------------+\n",
      "|year|units_per_year|\n",
      "+----+--------------+\n",
      "|2024|          8151|\n",
      "|2023|          7250|\n",
      "|2022|          8074|\n",
      "|2021|          7868|\n",
      "|2020|          8031|\n",
      "|2019|          6922|\n",
      "|2018|          7562|\n",
      "|2017|          7737|\n",
      "|2016|          7710|\n",
      "|2015|          7278|\n",
      "|2014|          7621|\n",
      "|2013|          7311|\n",
      "|2012|          7657|\n",
      "|2011|          8261|\n",
      "|2010|          7983|\n",
      "+----+--------------+\n",
      "\n"
     ]
    }
   ],
   "source": [
    "sales_per_year = spark.sql(\n",
    "    \"\"\"\n",
    "    select year, sum(units_sold) as units_per_year from bmw \n",
    "    group by year \n",
    "    order by year desc\n",
    "    \"\"\"\n",
    ")\n",
    "sales_per_year.show()"
   ]
  },
  {
   "cell_type": "code",
   "execution_count": 39,
   "metadata": {},
   "outputs": [
    {
     "name": "stdout",
     "output_type": "stream",
     "text": [
      "+----+-------------+------------------------+\n",
      "|year|       region|total_revenue_per_region|\n",
      "+----+-------------+------------------------+\n",
      "|2010|       Europe|             9.2958486E7|\n",
      "|2010|North America|             9.3113978E7|\n",
      "|2010|       Africa|             9.9904804E7|\n",
      "|2010|         Asia|             7.9502164E7|\n",
      "|2010|South America|             8.1351226E7|\n",
      "|2010|  Middle East|            1.01642761E8|\n",
      "|2011|  Middle East|             8.6705063E7|\n",
      "|2011|North America|             9.5960755E7|\n",
      "|2011|       Africa|             8.4748241E7|\n",
      "|2011|       Europe|            1.04979648E8|\n",
      "|2011|South America|            1.12666376E8|\n",
      "|2011|         Asia|             9.7598354E7|\n",
      "|2012|South America|             9.4403674E7|\n",
      "|2012|  Middle East|             8.1509936E7|\n",
      "|2012|         Asia|             9.2250921E7|\n",
      "|2012|       Africa|             9.6003338E7|\n",
      "|2012|North America|            1.02305952E8|\n",
      "|2012|       Europe|             8.3969034E7|\n",
      "|2013|       Europe|             6.9548124E7|\n",
      "|2013|South America|             9.5449693E7|\n",
      "+----+-------------+------------------------+\n",
      "only showing top 20 rows\n"
     ]
    }
   ],
   "source": [
    "revenue_region_year = spark.sql(\n",
    "    \"\"\"\n",
    "    select year, region, round(sum(revenue)) as total_revenue_per_region \n",
    "    from BMW\n",
    "    group by year, region\n",
    "    order by year\n",
    "    \"\"\"\n",
    ")\n",
    "revenue_region_year.show()"
   ]
  },
  {
   "cell_type": "code",
   "execution_count": 43,
   "metadata": {},
   "outputs": [
    {
     "name": "stdout",
     "output_type": "stream",
     "text": [
      "+--------+----------+\n",
      "|   model|units_sold|\n",
      "+--------+----------+\n",
      "|      M3|     10203|\n",
      "|      X6|      9933|\n",
      "|      X3|      9714|\n",
      "|      i8|      9713|\n",
      "|5 Series|      9662|\n",
      "+--------+----------+\n",
      "\n"
     ]
    }
   ],
   "source": [
    "models_units = spark.sql(\n",
    "    \"\"\"\n",
    "    select model, sum(units_sold) units_sold from BMW\n",
    "    group by model\n",
    "    order by units_sold desc\n",
    "    limit 5\n",
    "    \"\"\"\n",
    ")\n",
    "models_units.show()"
   ]
  },
  {
   "cell_type": "code",
   "execution_count": 45,
   "metadata": {},
   "outputs": [
    {
     "name": "stdout",
     "output_type": "stream",
     "text": [
      "+-----+----+----------+\n",
      "|month|year|units_sold|\n",
      "+-----+----+----------+\n",
      "|   12|2020|       975|\n",
      "|   10|2022|       944|\n",
      "|    9|2011|       934|\n",
      "|    8|2022|       893|\n",
      "|    6|2018|       891|\n",
      "|   10|2016|       852|\n",
      "|    8|2021|       850|\n",
      "|    8|2024|       847|\n",
      "|    1|2024|       841|\n",
      "|    4|2012|       836|\n",
      "|    4|2010|       823|\n",
      "|   12|2018|       817|\n",
      "|   11|2016|       814|\n",
      "|    3|2023|       806|\n",
      "|    3|2011|       797|\n",
      "|   10|2024|       794|\n",
      "|    8|2014|       794|\n",
      "|    7|2011|       790|\n",
      "|    3|2017|       781|\n",
      "|    8|2011|       780|\n",
      "+-----+----+----------+\n",
      "only showing top 20 rows\n"
     ]
    }
   ],
   "source": [
    "monthly_season_check = spark.sql(\n",
    "    \"\"\"\n",
    "    select month, year, sum(units_sold) as units_sold\n",
    "    from bmw\n",
    "    group by month, year\n",
    "    order by units_sold desc\n",
    "    \"\"\"\n",
    ")\n",
    "monthly_season_check.show()"
   ]
  },
  {
   "cell_type": "code",
   "execution_count": 51,
   "metadata": {},
   "outputs": [
    {
     "name": "stdout",
     "output_type": "stream",
     "text": [
      "+----+---------+\n",
      "|year|avg_price|\n",
      "+----+---------+\n",
      "|2010|  69186.0|\n",
      "|2011|  70760.0|\n",
      "|2012|  71607.0|\n",
      "|2013|  73974.0|\n",
      "|2014|  71214.0|\n",
      "|2015|  69887.0|\n",
      "|2016|  69444.0|\n",
      "|2017|  70845.0|\n",
      "|2018|  70872.0|\n",
      "|2019|  72052.0|\n",
      "|2020|  71094.0|\n",
      "|2021|  72136.0|\n",
      "|2022|  72139.0|\n",
      "|2023|  69374.0|\n",
      "|2024|  72584.0|\n",
      "+----+---------+\n",
      "\n"
     ]
    }
   ],
   "source": [
    "avg_price_per_year = spark.sql(\n",
    "    \"\"\"\n",
    "    select year, round(avg(price)) as avg_price \n",
    "    from bmw\n",
    "    group by year\n",
    "    order by year\n",
    "    \"\"\"\n",
    ")\n",
    "avg_price_per_year.show()"
   ]
  },
  {
   "cell_type": "code",
   "execution_count": null,
   "metadata": {},
   "outputs": [],
   "source": []
  }
 ],
 "metadata": {
  "kernelspec": {
   "display_name": "bmw_sales_analysis_2010_2024",
   "language": "python",
   "name": "python3"
  },
  "language_info": {
   "codemirror_mode": {
    "name": "ipython",
    "version": 3
   },
   "file_extension": ".py",
   "mimetype": "text/x-python",
   "name": "python",
   "nbconvert_exporter": "python",
   "pygments_lexer": "ipython3",
   "version": "3.13.7"
  }
 },
 "nbformat": 4,
 "nbformat_minor": 2
}
