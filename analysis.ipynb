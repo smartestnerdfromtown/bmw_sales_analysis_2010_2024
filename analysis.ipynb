{
 "cells": [
  {
   "cell_type": "code",
   "execution_count": 1,
   "metadata": {},
   "outputs": [],
   "source": [
    "from pyspark.sql import SparkSession\n",
    "from pyspark.sql.types import (\n",
    "    StructType,\n",
    "    StructField,\n",
    "    IntegerType,\n",
    "    StringType,\n",
    "    DoubleType,\n",
    ")"
   ]
  },
  {
   "cell_type": "code",
   "execution_count": 3,
   "metadata": {},
   "outputs": [],
   "source": [
    "spark = SparkSession.builder.appName(\"BMW Sales Analysis\").getOrCreate()\n",
    "spark.sparkContext.setLogLevel(\"ERROR\")"
   ]
  },
  {
   "cell_type": "code",
   "execution_count": 4,
   "metadata": {},
   "outputs": [],
   "source": [
    "schema = StructType(\n",
    "    [\n",
    "        StructField(\"Year\", IntegerType(), True),\n",
    "        StructField(\"Month\", IntegerType(), True),\n",
    "        StructField(\"Model\", StringType(), True),\n",
    "        StructField(\"Units_Sold\", IntegerType(), True),\n",
    "        StructField(\"Price\", DoubleType(), True),\n",
    "        StructField(\"Revenue\", DoubleType(), True),\n",
    "        StructField(\"Dealer\", StringType(), True),\n",
    "        StructField(\"Region\", StringType(), True),\n",
    "        StructField(\"Fuel_Type\", StringType(), True),\n",
    "        StructField(\"Transmission\", StringType(), True),\n",
    "    ]\n",
    ")\n",
    "\n",
    "df = spark.read.csv(\n",
    "    path=\"dataset/bmw_car_sales_2010_2024.csv\",\n",
    "    schema=schema,\n",
    "    header=True,\n",
    "    mode=\"PERMISSIVE\",\n",
    ")"
   ]
  },
  {
   "cell_type": "code",
   "execution_count": 5,
   "metadata": {},
   "outputs": [
    {
     "name": "stdout",
     "output_type": "stream",
     "text": [
      "+----+-----+--------+----------+---------+------------------+---------+-------------+---------+------------+\n",
      "|Year|Month|   Model|Units_Sold|    Price|           Revenue|   Dealer|       Region|Fuel_Type|Transmission|\n",
      "+----+-----+--------+----------+---------+------------------+---------+-------------+---------+------------+\n",
      "|2020|    2|3 Series|        24| 47143.54|        1131444.96|Dealer_16|       Europe|   Diesel|      Manual|\n",
      "|2020|   12|      i8|        16|129651.43|        2074422.88|Dealer_28|North America|   Petrol|      Manual|\n",
      "|2013|    4|      i8|        22|151284.79|3328265.3800000004|Dealer_36|       Europe| Electric|      Manual|\n",
      "|2017|   10|      X3|        26|  54855.8|         1426250.8| Dealer_1|       Europe| Electric|   Automatic|\n",
      "|2014|    3|      X1|        16| 41550.74|         664811.84|Dealer_22|North America|   Petrol|   Automatic|\n",
      "|2011|    6|      X5|        18| 70272.66|1264907.8800000001| Dealer_3|       Africa| Electric|      Manual|\n",
      "|2024|    7|5 Series|        20| 58608.67|         1172173.4|Dealer_41|South America|   Hybrid|      Manual|\n",
      "|2021|    2|3 Series|        22| 46131.92|        1014902.24|Dealer_50|         Asia|   Petrol|      Manual|\n",
      "|2023|    2|      X6|        18| 68837.45|1239074.0999999999|Dealer_41|         Asia|   Diesel|   Automatic|\n",
      "|2015|    4|      M5|        20| 102909.8|         2058196.0|Dealer_44|       Africa|   Petrol|      Manual|\n",
      "+----+-----+--------+----------+---------+------------------+---------+-------------+---------+------------+\n",
      "only showing top 10 rows\n",
      "root\n",
      " |-- Year: integer (nullable = true)\n",
      " |-- Month: integer (nullable = true)\n",
      " |-- Model: string (nullable = true)\n",
      " |-- Units_Sold: integer (nullable = true)\n",
      " |-- Price: double (nullable = true)\n",
      " |-- Revenue: double (nullable = true)\n",
      " |-- Dealer: string (nullable = true)\n",
      " |-- Region: string (nullable = true)\n",
      " |-- Fuel_Type: string (nullable = true)\n",
      " |-- Transmission: string (nullable = true)\n",
      "\n"
     ]
    }
   ],
   "source": [
    "df.show(10)\n",
    "df.printSchema()"
   ]
  },
  {
   "cell_type": "code",
   "execution_count": 6,
   "metadata": {},
   "outputs": [],
   "source": [
    "df.createOrReplaceTempView(\"BMW\")  # This tempirary view will be used for SQL queries"
   ]
  },
  {
   "cell_type": "code",
   "execution_count": 11,
   "metadata": {},
   "outputs": [
    {
     "name": "stdout",
     "output_type": "stream",
     "text": [
      "+----+--------------+\n",
      "|year|units_per_year|\n",
      "+----+--------------+\n",
      "|2011|          8261|\n",
      "|2024|          8151|\n",
      "|2022|          8074|\n",
      "|2020|          8031|\n",
      "|2010|          7983|\n",
      "|2021|          7868|\n",
      "|2017|          7737|\n",
      "|2016|          7710|\n",
      "|2012|          7657|\n",
      "|2014|          7621|\n",
      "|2018|          7562|\n",
      "|2013|          7311|\n",
      "|2015|          7278|\n",
      "|2023|          7250|\n",
      "|2019|          6922|\n",
      "+----+--------------+\n",
      "\n",
      "+----+--------------+\n",
      "|year|units_per_year|\n",
      "+----+--------------+\n",
      "|2011|          8261|\n",
      "+----+--------------+\n",
      "\n"
     ]
    }
   ],
   "source": [
    "sales_per_year = spark.sql(\n",
    "    \"\"\"\n",
    "    select year, sum(units_sold) as units_per_year from bmw \n",
    "    group by year \n",
    "    order by units_per_year desc\n",
    "    \"\"\"\n",
    ")\n",
    "sales_per_year.show()\n",
    "\n",
    "highest_sale = spark.sql(\n",
    "    \"\"\"\n",
    "    select year, sum(units_sold) as units_per_year\n",
    "    from bmw\n",
    "    group by year\n",
    "    order by units_per_year desc\n",
    "    limit 1\n",
    "    \"\"\"\n",
    ")\n",
    "highest_sale.show()"
   ]
  },
  {
   "cell_type": "code",
   "execution_count": null,
   "metadata": {},
   "outputs": [
    {
     "name": "stdout",
     "output_type": "stream",
     "text": [
      "+----+-------------+------------------------+\n",
      "|year|       region|total_revenue_per_region|\n",
      "+----+-------------+------------------------+\n",
      "|2010|       Europe|             9.2958486E7|\n",
      "|2010|North America|             9.3113978E7|\n",
      "|2010|       Africa|             9.9904804E7|\n",
      "|2010|         Asia|             7.9502164E7|\n",
      "|2010|South America|             8.1351226E7|\n",
      "|2010|  Middle East|            1.01642761E8|\n",
      "|2011|  Middle East|             8.6705063E7|\n",
      "|2011|North America|             9.5960755E7|\n",
      "|2011|       Africa|             8.4748241E7|\n",
      "|2011|       Europe|            1.04979648E8|\n",
      "|2011|South America|            1.12666376E8|\n",
      "|2011|         Asia|             9.7598354E7|\n",
      "|2012|South America|             9.4403674E7|\n",
      "|2012|  Middle East|             8.1509936E7|\n",
      "|2012|         Asia|             9.2250921E7|\n",
      "|2012|       Africa|             9.6003338E7|\n",
      "|2012|North America|            1.02305952E8|\n",
      "|2012|       Europe|             8.3969034E7|\n",
      "|2013|       Europe|             6.9548124E7|\n",
      "|2013|South America|             9.5449693E7|\n",
      "+----+-------------+------------------------+\n",
      "only showing top 20 rows\n"
     ]
    }
   ],
   "source": [
    "revenue_region_year = spark.sql(\n",
    "    \"\"\"\n",
    "    select year, region, round(sum(revenue)) as total_revenue_per_region \n",
    "    from BMW\n",
    "    group by year, region\n",
    "    order by year\n",
    "    \"\"\"\n",
    ")\n",
    "revenue_region_year.show()"
   ]
  },
  {
   "cell_type": "code",
   "execution_count": 16,
   "metadata": {},
   "outputs": [
    {
     "name": "stdout",
     "output_type": "stream",
     "text": [
      "+--------+----------+----+\n",
      "|   model|units_sold|rank|\n",
      "+--------+----------+----+\n",
      "|      M3|     10203|   1|\n",
      "|      X6|      9933|   2|\n",
      "|      X3|      9714|   3|\n",
      "|      i8|      9713|   4|\n",
      "|5 Series|      9662|   5|\n",
      "|7 Series|      9654|   6|\n",
      "|      X5|      9654|   6|\n",
      "|      i3|      9569|   8|\n",
      "|      Z4|      9559|   9|\n",
      "|      M5|      9409|  10|\n",
      "|3 Series|      9240|  11|\n",
      "|      X1|      9106|  12|\n",
      "+--------+----------+----+\n",
      "\n",
      "+--------+----------+\n",
      "|   model|units_sold|\n",
      "+--------+----------+\n",
      "|      M3|     10203|\n",
      "|      X6|      9933|\n",
      "|      X3|      9714|\n",
      "|      i8|      9713|\n",
      "|5 Series|      9662|\n",
      "+--------+----------+\n",
      "\n"
     ]
    }
   ],
   "source": [
    "models_units = spark.sql(\n",
    "    \"\"\"\n",
    "    select model, sum(units_sold) as units_sold,\n",
    "           rank() over (order by sum(units_sold) desc) as rank\n",
    "    from bmw\n",
    "    group by model\n",
    "    order by units_sold desc\n",
    "    \"\"\"\n",
    ")\n",
    "models_units.show()\n",
    "\n",
    "top5_performers = spark.sql(\n",
    "    \"\"\"\n",
    "    select model, sum(units_sold) as units_sold \n",
    "    from bmw\n",
    "    group by model\n",
    "    order by units_sold desc\n",
    "    limit 5\n",
    "    \"\"\"\n",
    ")\n",
    "top5_performers.show()"
   ]
  },
  {
   "cell_type": "code",
   "execution_count": 24,
   "metadata": {},
   "outputs": [
    {
     "name": "stdout",
     "output_type": "stream",
     "text": [
      "+-----+----------+----+\n",
      "|month|units_sold|rank|\n",
      "+-----+----------+----+\n",
      "|    8|     10456|   1|\n",
      "|   12|     10365|   2|\n",
      "|   11|     10039|   3|\n",
      "|    3|      9941|   4|\n",
      "|    7|      9718|   5|\n",
      "|    9|      9710|   6|\n",
      "|    5|      9691|   7|\n",
      "|   10|      9530|   8|\n",
      "|    6|      9265|   9|\n",
      "|    4|      9188|  10|\n",
      "|    1|      8976|  11|\n",
      "|    2|      8537|  12|\n",
      "+-----+----------+----+\n",
      "\n"
     ]
    }
   ],
   "source": [
    "monthly_season_check = spark.sql(\n",
    "    \"\"\"\n",
    "    select month, year, sum(units_sold) as units_sold\n",
    "    from bmw\n",
    "    group by month, year\n",
    "    order by year, month desc\n",
    "    \"\"\"\n",
    ")\n",
    "\n",
    "hot_months = spark.sql(\n",
    "    \"\"\"\n",
    "    select month, sum(units_sold) as units_sold, \n",
    "           dense_rank() over (order by sum(units_sold) desc) as rank\n",
    "    from bmw\n",
    "    group by month\n",
    "    order by units_sold desc\n",
    "\"\"\"\n",
    ")\n",
    "hot_months.show()"
   ]
  },
  {
   "cell_type": "code",
   "execution_count": 27,
   "metadata": {},
   "outputs": [
    {
     "name": "stdout",
     "output_type": "stream",
     "text": [
      "+----+---------+\n",
      "|year|avg_price|\n",
      "+----+---------+\n",
      "|2010|  69186.0|\n",
      "|2011|  70760.0|\n",
      "|2012|  71607.0|\n",
      "|2013|  73974.0|\n",
      "|2014|  71214.0|\n",
      "|2015|  69887.0|\n",
      "|2016|  69444.0|\n",
      "|2017|  70845.0|\n",
      "|2018|  70872.0|\n",
      "|2019|  72052.0|\n",
      "|2020|  71094.0|\n",
      "|2021|  72136.0|\n",
      "|2022|  72139.0|\n",
      "|2023|  69374.0|\n",
      "|2024|  72584.0|\n",
      "+----+---------+\n",
      "\n",
      "+----+----------------+\n",
      "|year|weighted_average|\n",
      "+----+----------------+\n",
      "|2010|        68705.18|\n",
      "|2011|        70531.22|\n",
      "|2012|        71887.54|\n",
      "|2013|        73463.76|\n",
      "|2014|        71907.35|\n",
      "|2015|        69936.18|\n",
      "|2016|         69792.5|\n",
      "|2017|        70607.24|\n",
      "|2018|        71610.08|\n",
      "|2019|        72716.19|\n",
      "|2020|        71324.32|\n",
      "|2021|        72844.99|\n",
      "|2022|        72027.41|\n",
      "|2023|        68944.49|\n",
      "|2024|        72918.11|\n",
      "+----+----------------+\n",
      "\n"
     ]
    }
   ],
   "source": [
    "avg_price_per_year = spark.sql(\n",
    "    \"\"\"\n",
    "    select year, round(avg(price)) as avg_price \n",
    "    from bmw\n",
    "    group by year\n",
    "    order by year\n",
    "    \"\"\"\n",
    ")\n",
    "avg_price_per_year.show()\n",
    "\n",
    "weighted_avg_price_per_year = spark.sql(\n",
    "    \"\"\"\n",
    "    select year, \n",
    "           round(sum(price * units_sold) / sum(units_sold), 2) as weighted_average\n",
    "    from bmw\n",
    "    group by year\n",
    "    order by year asc                                                           \n",
    "\"\"\"\n",
    ")\n",
    "weighted_avg_price_per_year.show()"
   ]
  },
  {
   "cell_type": "code",
   "execution_count": 21,
   "metadata": {},
   "outputs": [
    {
     "name": "stdout",
     "output_type": "stream",
     "text": [
      "+----+-----+--------+----------+---------+------------------+---------+-------------+---------+------------+\n",
      "|Year|Month|   Model|Units_Sold|    Price|           Revenue|   Dealer|       Region|Fuel_Type|Transmission|\n",
      "+----+-----+--------+----------+---------+------------------+---------+-------------+---------+------------+\n",
      "|2020|    2|3 Series|        24| 47143.54|        1131444.96|Dealer_16|       Europe|   Diesel|      Manual|\n",
      "|2020|   12|      i8|        16|129651.43|        2074422.88|Dealer_28|North America|   Petrol|      Manual|\n",
      "|2013|    4|      i8|        22|151284.79|3328265.3800000004|Dealer_36|       Europe| Electric|      Manual|\n",
      "|2017|   10|      X3|        26|  54855.8|         1426250.8| Dealer_1|       Europe| Electric|   Automatic|\n",
      "|2014|    3|      X1|        16| 41550.74|         664811.84|Dealer_22|North America|   Petrol|   Automatic|\n",
      "+----+-----+--------+----------+---------+------------------+---------+-------------+---------+------------+\n",
      "only showing top 5 rows\n"
     ]
    }
   ],
   "source": [
    "df.show(5)"
   ]
  },
  {
   "cell_type": "code",
   "execution_count": 33,
   "metadata": {},
   "outputs": [
    {
     "name": "stdout",
     "output_type": "stream",
     "text": [
      "+---------+----------------+--------------------+\n",
      "|fuel_type|total_units_sold|       total_revenue|\n",
      "+---------+----------------+--------------------+\n",
      "|   Diesel|           29133| 2.052416262180004E9|\n",
      "|   Hybrid|           28855| 2.048510684599996E9|\n",
      "| Electric|           28824|2.0809308148499987E9|\n",
      "|   Petrol|           28604| 2.044759683809999E9|\n",
      "+---------+----------------+--------------------+\n",
      "\n"
     ]
    }
   ],
   "source": [
    "fuelt_type_breakdown = spark.sql(\n",
    "    \"\"\"\n",
    "    select fuel_type, \n",
    "           sum(units_sold) as total_units_sold,\n",
    "           sum(revenue) as total_revenue \n",
    "    from BMW\n",
    "    group by fuel_type\n",
    "    order by total_units_sold desc\n",
    "    \"\"\"\n",
    ")\n",
    "fuelt_type_breakdown.show()"
   ]
  },
  {
   "cell_type": "code",
   "execution_count": 43,
   "metadata": {},
   "outputs": [
    {
     "name": "stdout",
     "output_type": "stream",
     "text": [
      "+-------------+------------+------------+\n",
      "|       region|transmission|total_number|\n",
      "+-------------+------------+------------+\n",
      "|       Africa|   Automatic|         436|\n",
      "|       Africa|      Manual|         429|\n",
      "|         Asia|   Automatic|         462|\n",
      "|         Asia|      Manual|         470|\n",
      "|       Europe|   Automatic|         441|\n",
      "|       Europe|      Manual|         465|\n",
      "|  Middle East|   Automatic|         441|\n",
      "|  Middle East|      Manual|         484|\n",
      "|North America|   Automatic|         493|\n",
      "|North America|      Manual|         472|\n",
      "|South America|   Automatic|         453|\n",
      "|South America|      Manual|         454|\n",
      "+-------------+------------+------------+\n",
      "\n",
      "+-------------+----------------+\n",
      "|       region|manual_cars_sold|\n",
      "+-------------+----------------+\n",
      "|  Middle East|             484|\n",
      "|North America|             472|\n",
      "|         Asia|             470|\n",
      "|       Europe|             465|\n",
      "|South America|             454|\n",
      "|       Africa|             429|\n",
      "+-------------+----------------+\n",
      "\n"
     ]
    }
   ],
   "source": [
    "transmission_preference = spark.sql(\n",
    "    \"\"\"\n",
    "    select region, transmission, count(transmission) as total_number \n",
    "    from bmw\n",
    "    group by region, transmission\n",
    "    order by region, transmission\n",
    "    \"\"\"\n",
    ")\n",
    "transmission_preference.show()\n",
    "\n",
    "regions_manuals = spark.sql(\n",
    "    \"\"\"\n",
    "    select region, count(*) as manual_cars_sold\n",
    "    from bmw\n",
    "    where transmission = 'Manual'\n",
    "    group by region\n",
    "    order by manual_cars_sold desc\n",
    "    \"\"\"\n",
    ")\n",
    "regions_manuals.show()"
   ]
  },
  {
   "cell_type": "code",
   "execution_count": 46,
   "metadata": {},
   "outputs": [
    {
     "name": "stdout",
     "output_type": "stream",
     "text": [
      "+---------+-------------+--------------------+\n",
      "|   dealer|       region|       total_revenue|\n",
      "+---------+-------------+--------------------+\n",
      "|Dealer_14|  Middle East|4.9588029019999996E7|\n",
      "|Dealer_44|       Africa|4.9347983029999994E7|\n",
      "|Dealer_11|       Europe|       4.810701044E7|\n",
      "| Dealer_1|         Asia|       4.712932392E7|\n",
      "|Dealer_24|North America|       4.399832293E7|\n",
      "|Dealer_48|South America| 4.354265828000001E7|\n",
      "|Dealer_22|North America| 4.293964845999999E7|\n",
      "|Dealer_20|South America|4.1773849949999996E7|\n",
      "|Dealer_18|North America|4.1677514629999995E7|\n",
      "|Dealer_37|       Europe|       4.163322733E7|\n",
      "|Dealer_24|  Middle East|       4.147683955E7|\n",
      "| Dealer_8|       Europe|       4.143931146E7|\n",
      "|Dealer_10|South America|       4.141467223E7|\n",
      "| Dealer_8|         Asia|       4.139054594E7|\n",
      "|Dealer_48|North America|        4.12066519E7|\n",
      "|Dealer_27|       Africa|4.0985443080000006E7|\n",
      "|Dealer_47|       Africa| 4.026204123999999E7|\n",
      "|Dealer_12|  Middle East| 4.008905357000001E7|\n",
      "|Dealer_39|South America|       3.995284464E7|\n",
      "|Dealer_11|North America|        3.93949967E7|\n",
      "+---------+-------------+--------------------+\n",
      "only showing top 20 rows\n",
      "+---------+-------------+--------------------+\n",
      "|   dealer|       region|       total_revenue|\n",
      "+---------+-------------+--------------------+\n",
      "|Dealer_14|  Middle East|4.9588029019999996E7|\n",
      "|Dealer_44|       Africa|4.9347983029999994E7|\n",
      "|Dealer_11|       Europe|       4.810701044E7|\n",
      "| Dealer_1|         Asia|       4.712932392E7|\n",
      "|Dealer_24|North America|       4.399832293E7|\n",
      "|Dealer_48|South America| 4.354265828000001E7|\n",
      "|Dealer_22|North America| 4.293964845999999E7|\n",
      "|Dealer_20|South America|4.1773849949999996E7|\n",
      "|Dealer_18|North America|4.1677514629999995E7|\n",
      "|Dealer_37|       Europe|       4.163322733E7|\n",
      "+---------+-------------+--------------------+\n",
      "\n"
     ]
    }
   ],
   "source": [
    "dealers = spark.sql(\n",
    "    \"\"\"\n",
    "    select \n",
    "          dealer, \n",
    "          region, \n",
    "          sum(revenue) as total_revenue\n",
    "    from bmw\n",
    "    group by dealer, region\n",
    "    order by total_revenue desc\n",
    "    \"\"\"\n",
    ")\n",
    "dealers.show()\n",
    "\n",
    "top_dealers = spark.sql(\n",
    "    \"\"\"\n",
    "    select \n",
    "          dealer, \n",
    "          region, \n",
    "          sum(revenue) as total_revenue\n",
    "    from bmw\n",
    "    group by dealer, region\n",
    "    order by total_revenue desc\n",
    "    limit 10\n",
    "    \"\"\"\n",
    ")\n",
    "top_dealers.show()"
   ]
  },
  {
   "cell_type": "code",
   "execution_count": 43,
   "metadata": {},
   "outputs": [
    {
     "name": "stdout",
     "output_type": "stream",
     "text": [
      "+----+---------+----------+\n",
      "|year|fuel_type|count_fuel|\n",
      "+----+---------+----------+\n",
      "|2010| Electric|       103|\n",
      "|2010|   Petrol|        87|\n",
      "|2010|   Diesel|        89|\n",
      "|2010|   Hybrid|        91|\n",
      "|2011|   Hybrid|        89|\n",
      "|2011|   Diesel|       101|\n",
      "|2011| Electric|        99|\n",
      "|2011|   Petrol|       104|\n",
      "|2012|   Hybrid|        83|\n",
      "|2012|   Diesel|        90|\n",
      "|2012| Electric|       111|\n",
      "|2012|   Petrol|        85|\n",
      "|2013| Electric|        92|\n",
      "|2013|   Petrol|        90|\n",
      "|2013|   Hybrid|        88|\n",
      "|2013|   Diesel|        85|\n",
      "|2014| Electric|        95|\n",
      "|2014|   Diesel|        97|\n",
      "|2014|   Petrol|        90|\n",
      "|2014|   Hybrid|        87|\n",
      "+----+---------+----------+\n",
      "only showing top 20 rows\n"
     ]
    }
   ],
   "source": [
    "fuel_trend_over_years = spark.sql(\n",
    "    \"\"\"\n",
    "    select year, fuel_type, count(fuel_type) as count_fuel from bmw\n",
    "    group by year, fuel_type\n",
    "    order by year\n",
    "    \"\"\"\n",
    ")\n",
    "\n",
    "fuel_trend_over_years.show()"
   ]
  }
 ],
 "metadata": {
  "kernelspec": {
   "display_name": "bmw_sales_analysis_2010_2024",
   "language": "python",
   "name": "python3"
  },
  "language_info": {
   "codemirror_mode": {
    "name": "ipython",
    "version": 3
   },
   "file_extension": ".py",
   "mimetype": "text/x-python",
   "name": "python",
   "nbconvert_exporter": "python",
   "pygments_lexer": "ipython3",
   "version": "3.13.7"
  }
 },
 "nbformat": 4,
 "nbformat_minor": 2
}
