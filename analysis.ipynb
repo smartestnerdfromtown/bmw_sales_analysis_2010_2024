{
 "cells": [
  {
   "cell_type": "code",
   "execution_count": 13,
   "metadata": {},
   "outputs": [],
   "source": [
    "from pyspark.sql import SparkSession\n",
    "from pyspark.sql.types import (\n",
    "    StructType,\n",
    "    StructField,\n",
    "    IntegerType,\n",
    "    StringType,\n",
    "    DoubleType,\n",
    ")"
   ]
  },
  {
   "cell_type": "code",
   "execution_count": 14,
   "metadata": {},
   "outputs": [],
   "source": [
    "spark = SparkSession.builder.appName(\"BMW Sales Analysis\").getOrCreate()\n",
    "spark.sparkContext.setLogLevel(\"ERROR\")"
   ]
  },
  {
   "cell_type": "code",
   "execution_count": 15,
   "metadata": {},
   "outputs": [],
   "source": [
    "schema = StructType(\n",
    "    [\n",
    "        StructField(\"Year\", IntegerType(), True),\n",
    "        StructField(\"Month\", IntegerType(), True),\n",
    "        StructField(\"Model\", StringType(), True),\n",
    "        StructField(\"Units_Sold\", IntegerType(), True),\n",
    "        StructField(\"Price\", DoubleType(), True),\n",
    "        StructField(\"Revenue\", DoubleType(), True),\n",
    "        StructField(\"Dealer\", StringType(), True),\n",
    "        StructField(\"Region\", StringType(), True),\n",
    "        StructField(\"Fuel_Type\", StringType(), True),\n",
    "        StructField(\"Transmission\", StringType(), True),\n",
    "    ]\n",
    ")\n",
    "\n",
    "df = spark.read.csv(\n",
    "    path=\"dataset/bmw_car_sales_2010_2024.csv\",\n",
    "    schema=schema,\n",
    "    header=True,\n",
    "    inferSchema=True,\n",
    "    mode=\"PERMISSIVE\",\n",
    ")"
   ]
  },
  {
   "cell_type": "code",
   "execution_count": 16,
   "metadata": {},
   "outputs": [
    {
     "name": "stdout",
     "output_type": "stream",
     "text": [
      "+----+-----+--------+----------+---------+------------------+---------+-------------+---------+------------+\n",
      "|Year|Month|   Model|Units_Sold|    Price|           Revenue|   Dealer|       Region|Fuel_Type|Transmission|\n",
      "+----+-----+--------+----------+---------+------------------+---------+-------------+---------+------------+\n",
      "|2020|    2|3 Series|        24| 47143.54|        1131444.96|Dealer_16|       Europe|   Diesel|      Manual|\n",
      "|2020|   12|      i8|        16|129651.43|        2074422.88|Dealer_28|North America|   Petrol|      Manual|\n",
      "|2013|    4|      i8|        22|151284.79|3328265.3800000004|Dealer_36|       Europe| Electric|      Manual|\n",
      "|2017|   10|      X3|        26|  54855.8|         1426250.8| Dealer_1|       Europe| Electric|   Automatic|\n",
      "|2014|    3|      X1|        16| 41550.74|         664811.84|Dealer_22|North America|   Petrol|   Automatic|\n",
      "+----+-----+--------+----------+---------+------------------+---------+-------------+---------+------------+\n",
      "only showing top 5 rows\n",
      "root\n",
      " |-- Year: integer (nullable = true)\n",
      " |-- Month: integer (nullable = true)\n",
      " |-- Model: string (nullable = true)\n",
      " |-- Units_Sold: integer (nullable = true)\n",
      " |-- Price: double (nullable = true)\n",
      " |-- Revenue: double (nullable = true)\n",
      " |-- Dealer: string (nullable = true)\n",
      " |-- Region: string (nullable = true)\n",
      " |-- Fuel_Type: string (nullable = true)\n",
      " |-- Transmission: string (nullable = true)\n",
      "\n"
     ]
    }
   ],
   "source": [
    "df.show(5)\n",
    "df.printSchema()"
   ]
  },
  {
   "cell_type": "code",
   "execution_count": null,
   "metadata": {},
   "outputs": [],
   "source": []
  }
 ],
 "metadata": {
  "kernelspec": {
   "display_name": "bmw_sales_analysis_2010_2024",
   "language": "python",
   "name": "python3"
  },
  "language_info": {
   "codemirror_mode": {
    "name": "ipython",
    "version": 3
   },
   "file_extension": ".py",
   "mimetype": "text/x-python",
   "name": "python",
   "nbconvert_exporter": "python",
   "pygments_lexer": "ipython3",
   "version": "3.13.7"
  }
 },
 "nbformat": 4,
 "nbformat_minor": 2
}
